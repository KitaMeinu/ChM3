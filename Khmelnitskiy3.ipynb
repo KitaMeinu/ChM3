{
 "cells": [
  {
   "cell_type": "code",
   "execution_count": 16,
   "metadata": {},
   "outputs": [],
   "source": [
    "import numpy as np\n",
    "import matplotlib.pyplot as plt\n",
    "import copy\n",
    "\n",
    "n = 5\n",
    "N = 26\n",
    "def c(i, j):\n",
    "    return 0.1*N*(i+1)*(j+1)\n",
    "def Gauss(A, b):\n",
    "    C = copy.copy(A)\n",
    "    k = copy.copy(b)\n",
    "    size = C.shape[0]\n",
    "    x = np.zeros(size)\n",
    "    for j in range(size):\n",
    "        for i in range(j+1,size):\n",
    "            t = C[i, j]/C[j, j]\n",
    "            C[i] -= C[j]*t\n",
    "            k[i] -= k[j]*t\n",
    "    x[size-1]=k[size-1]/C[size-1,size-1]\n",
    "    for j in range (size-2,-1,-1):\n",
    "        l=0\n",
    "        for i in range (size-1-j):\n",
    "            l+=(x[size-1-i]*C[j,size-1-i])\n",
    "        x[j]=(k[j]-l)/C[j, j]\n",
    "    return x"
   ]
  },
  {
   "cell_type": "code",
   "execution_count": 17,
   "metadata": {},
   "outputs": [
    {
     "data": {
      "text/plain": [
       "array([[2.77280859, 1.06456044, 0.57599405, 0.36350844, 0.25101215],\n",
       "       [1.06456044, 0.36350844, 0.1839981 , 0.11122273, 0.07451923],\n",
       "       [0.57599405, 0.1839981 , 0.09012152, 0.0534188 , 0.03532764],\n",
       "       [0.36350844, 0.11122273, 0.0534188 , 0.0313106 , 0.02055703],\n",
       "       [0.25101215, 0.07451923, 0.03532764, 0.02055703, 0.01343445]])"
      ]
     },
     "execution_count": 17,
     "metadata": {},
     "output_type": "execute_result"
    }
   ],
   "source": [
    "A = np.array([[31/(((c(i,j)**2)+6*c(i,j))**1/2) for j in range(n)] for i in range(n)])\n",
    "A"
   ]
  },
  {
   "cell_type": "code",
   "execution_count": 19,
   "metadata": {},
   "outputs": [
    {
     "data": {
      "text/plain": [
       "array([[26.],\n",
       "       [26.],\n",
       "       [26.],\n",
       "       [26.],\n",
       "       [26.]])"
      ]
     },
     "execution_count": 19,
     "metadata": {},
     "output_type": "execute_result"
    }
   ],
   "source": [
    "b = np.array([float(N) for i in range(n)])\n",
    "b.reshape(5, 1)"
   ]
  },
  {
   "cell_type": "code",
   "execution_count": 20,
   "metadata": {},
   "outputs": [
    {
     "data": {
      "text/plain": [
       "array([[    31293.67379628],\n",
       "       [ -1094368.12616523],\n",
       "       [  7220071.40464891],\n",
       "       [-14956609.05194189],\n",
       "       [  9387637.81451515]])"
      ]
     },
     "execution_count": 20,
     "metadata": {},
     "output_type": "execute_result"
    }
   ],
   "source": [
    "x1 = Gauss(A, b)\n",
    "x1.reshape(5,1)"
   ]
  },
  {
   "cell_type": "code",
   "execution_count": 21,
   "metadata": {},
   "outputs": [
    {
     "data": {
      "text/plain": [
       "array([[    31293.67379798],\n",
       "       [ -1094368.12623269],\n",
       "       [  7220071.40511768],\n",
       "       [-14956609.05294055],\n",
       "       [  9387637.81515302]])"
      ]
     },
     "execution_count": 21,
     "metadata": {},
     "output_type": "execute_result"
    }
   ],
   "source": [
    "x2 = np.linalg.solve(A, b)\n",
    "x2.reshape(5, 1)"
   ]
  },
  {
   "cell_type": "code",
   "execution_count": 22,
   "metadata": {},
   "outputs": [
    {
     "data": {
      "text/plain": [
       "73809963.97123413"
      ]
     },
     "execution_count": 22,
     "metadata": {},
     "output_type": "execute_result"
    }
   ],
   "source": [
    "np.linalg.cond(A)"
   ]
  },
  {
   "cell_type": "code",
   "execution_count": 23,
   "metadata": {},
   "outputs": [
    {
     "data": {
      "text/plain": [
       "array([[2.38863323e-06],\n",
       "       [6.27504476e-05],\n",
       "       [6.71345717e-04],\n",
       "       [9.18597758e-04],\n",
       "       [9.18597932e-04]])"
      ]
     },
     "execution_count": 23,
     "metadata": {},
     "output_type": "execute_result"
    }
   ],
   "source": [
    "eps = 0.001\n",
    "d = np.zeros(n)\n",
    "x = copy.copy(x1)\n",
    "for i in range (n):\n",
    "    B = copy.copy(b);\n",
    "    B[i] += eps\n",
    "    xi = np.linalg.solve(A, B)\n",
    "    d[i] = max(x-xi)/max(x)\n",
    "d.reshape(5, 1)"
   ]
  },
  {
   "cell_type": "code",
   "execution_count": 24,
   "metadata": {},
   "outputs": [
    {
     "data": {
      "image/png": "[encoded data removed]",
      "text/plain": [
       "<Figure size 432x288 with 1 Axes>"
      ]
     },
     "metadata": {},
     "output_type": "display_data"
    },
    {
     "name": "stdout",
     "output_type": "stream",
     "text": [
      "0.0009185979318620726  - максимальная погрешность у 5  - ой компоненты вектора\n"
     ]
    }
   ],
   "source": [
    "xhist = np.arange(1, n+1)\n",
    "yhist = copy.copy(d)\n",
    "\n",
    "plt.bar(xhist, yhist)\n",
    "plt.show()\n",
    "\n",
    "print(max(d), ' - максимальная погрешность у', np.where(d==max(d))[0][0]+1, ' - ой компоненты вектора')"
   ]
  },
  {
   "cell_type": "code",
   "execution_count": 25,
   "metadata": {},
   "outputs": [
    {
     "name": "stdout",
     "output_type": "stream",
     "text": [
      "True\n",
      "True\n",
      "True\n",
      "True\n",
      "True\n"
     ]
    }
   ],
   "source": [
    "for i in range(n):\n",
    "    print (d[i]<=np.linalg.cond(A)*eps)"
   ]
  },
  {
   "cell_type": "code",
   "execution_count": 27,
   "metadata": {},
   "outputs": [
    {
     "data": {
      "text/plain": [
       "73809.96397123413"
      ]
     },
     "execution_count": 27,
     "metadata": {},
     "output_type": "execute_result"
    }
   ],
   "source": [
    "np.linalg.cond(A)*eps"
   ]
  },
  {
   "cell_type": "code",
   "execution_count": null,
   "metadata": {},
   "outputs": [],
   "source": []
  }
 ],
 "metadata": {
  "kernelspec": {
   "display_name": "Python 3",
   "language": "python",
   "name": "python3"
  },
  "language_info": {
   "codemirror_mode": {
    "name": "ipython",
    "version": 3
   },
   "file_extension": ".py",
   "mimetype": "text/x-python",
   "name": "python",
   "nbconvert_exporter": "python",
   "pygments_lexer": "ipython3",
   "version": "3.6.5"
  }
 },
 "nbformat": 4,
 "nbformat_minor": 2
}
